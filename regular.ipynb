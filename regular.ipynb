{
 "cells": [
  {
   "cell_type": "code",
   "execution_count": 1,
   "metadata": {},
   "outputs": [],
   "source": [
    "from pprint import pprint\n",
    "# читаем адресную книгу в формате CSV в список contacts_list\n",
    "import csv\n",
    "import re\n",
    "with open(\"phonebook_raw.csv\", encoding='utf8') as f:\n",
    "    rows = csv.reader(f, delimiter=\",\")\n",
    "    contacts_list = list(rows)\n",
    "\n",
    "#TODO 1: выполните пункты 1-3 ДЗ\n",
    "# ваш код\n",
    "result = {}\n",
    "name_pattern = re.compile(r'(^[А-ЯЁ][а-яё]*)\\s?\\,?(([А-Я][а-яё]*)\\s?\\,?([А-Я][а-яё]*)?)\\,?$')\n",
    "phone_pattern = re.compile(r'(\\+7|8)\\s?\\(?(495|812)\\)?\\-?\\s?(\\d{3})\\-?(\\d{2})\\-?(\\d{2})(\\s?\\(?(доб.)\\s?(\\d+)\\)?)?')\n",
    "\n",
    "name_sub = r'\\1,\\3,\\4,'\n",
    "key_sub = r'\\1,\\3'\n",
    "phone_sub = r' +7(\\2)\\3-\\4-\\5 \\6\\7'\n",
    "keys = contacts_list[0]\n",
    "\n",
    "for item in contacts_list[1:]:\n",
    "        name = name_pattern.sub(name_sub, ''.join(item[:2])).split(',')\n",
    "        item[0] = name[0]\n",
    "        item[1] = name[1]\n",
    "        item[2] = name[2]\n",
    "        item[5] = phone_pattern.sub(phone_sub, item[5])\n",
    "        key = (item[1], item[0])\n",
    "        data = result.setdefault(key, {\n",
    "        })\n",
    "        count = 0\n",
    "        for elem in keys:\n",
    "            data[elem] = data.get(elem) or item[count]\n",
    "            result[key] = data\n",
    "            count += 1\n",
    "\n",
    "#TODO 2: сохраните получившиеся данные в другой файл\n",
    "# код для записи файла в формате CSV\n",
    "with open(\"phonebook.csv\", \"w\", encoding='utf8') as f:\n",
    "  datawriter = csv.writer(f, delimiter=',', lineterminator='\\n\\n')\n",
    "  datawriter.writerows(elem.values() for elem in result.values())\n",
    "  # Вместо contacts_list подставьте свой список\n",
    "  datawriter.writerows([keys])"
   ]
  }
 ],
 "metadata": {
  "interpreter": {
   "hash": "31f2aee4e71d21fbe5cf8b01ff0e069b9275f58929596ceb00d14d90e3e16cd6"
  },
  "kernelspec": {
   "display_name": "Python 3.8.9 64-bit",
   "language": "python",
   "name": "python3"
  },
  "language_info": {
   "codemirror_mode": {
    "name": "ipython",
    "version": 3
   },
   "file_extension": ".py",
   "mimetype": "text/x-python",
   "name": "python",
   "nbconvert_exporter": "python",
   "pygments_lexer": "ipython3",
   "version": "3.8.9"
  },
  "orig_nbformat": 4
 },
 "nbformat": 4,
 "nbformat_minor": 2
}
